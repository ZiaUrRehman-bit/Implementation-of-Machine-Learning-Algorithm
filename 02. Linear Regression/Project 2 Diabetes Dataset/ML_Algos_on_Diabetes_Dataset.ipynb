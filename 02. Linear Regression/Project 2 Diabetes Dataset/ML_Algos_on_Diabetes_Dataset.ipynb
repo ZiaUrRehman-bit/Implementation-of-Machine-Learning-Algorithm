{
 "cells": [
  {
   "cell_type": "markdown",
   "id": "261dab4b",
   "metadata": {},
   "source": [
    "# Diabetes Prediction Using ML Models"
   ]
  },
  {
   "cell_type": "markdown",
   "id": "c3eddb50",
   "metadata": {},
   "source": [
    "# Model 01\n",
    "\n",
    "# 1. Linear Regression"
   ]
  },
  {
   "cell_type": "markdown",
   "id": "09d59366",
   "metadata": {},
   "source": [
    "## 1.1 Import Libraries & Read Data"
   ]
  },
  {
   "cell_type": "markdown",
   "id": "1667ce06",
   "metadata": {},
   "source": [
    "Importing required libraries and Diabetes dataset"
   ]
  },
  {
   "cell_type": "code",
   "execution_count": 1,
   "id": "52dbef99",
   "metadata": {},
   "outputs": [],
   "source": [
    "import pandas as pd\n",
    "import numpy as np\n",
    "import matplotlib.pyplot as plt\n",
    "import seaborn as sns\n",
    "import math\n",
    "from sklearn.linear_model import LinearRegression\n",
    "from sklearn.model_selection import train_test_split"
   ]
  },
  {
   "cell_type": "code",
   "execution_count": 2,
   "id": "4861196d",
   "metadata": {},
   "outputs": [],
   "source": [
    "data = pd.read_csv(\"diabetes.csv\")"
   ]
  },
  {
   "cell_type": "code",
   "execution_count": 3,
   "id": "f528fa08",
   "metadata": {},
   "outputs": [
    {
     "data": {
      "text/html": [
       "<div>\n",
       "<style scoped>\n",
       "    .dataframe tbody tr th:only-of-type {\n",
       "        vertical-align: middle;\n",
       "    }\n",
       "\n",
       "    .dataframe tbody tr th {\n",
       "        vertical-align: top;\n",
       "    }\n",
       "\n",
       "    .dataframe thead th {\n",
       "        text-align: right;\n",
       "    }\n",
       "</style>\n",
       "<table border=\"1\" class=\"dataframe\">\n",
       "  <thead>\n",
       "    <tr style=\"text-align: right;\">\n",
       "      <th></th>\n",
       "      <th>Pregnancies</th>\n",
       "      <th>Glucose</th>\n",
       "      <th>BloodPressure</th>\n",
       "      <th>SkinThickness</th>\n",
       "      <th>Insulin</th>\n",
       "      <th>BMI</th>\n",
       "      <th>DiabetesPedigreeFunction</th>\n",
       "      <th>Age</th>\n",
       "      <th>Outcome</th>\n",
       "    </tr>\n",
       "  </thead>\n",
       "  <tbody>\n",
       "    <tr>\n",
       "      <th>0</th>\n",
       "      <td>6</td>\n",
       "      <td>148</td>\n",
       "      <td>72</td>\n",
       "      <td>35</td>\n",
       "      <td>0</td>\n",
       "      <td>33.6</td>\n",
       "      <td>0.627</td>\n",
       "      <td>50</td>\n",
       "      <td>1</td>\n",
       "    </tr>\n",
       "    <tr>\n",
       "      <th>1</th>\n",
       "      <td>1</td>\n",
       "      <td>85</td>\n",
       "      <td>66</td>\n",
       "      <td>29</td>\n",
       "      <td>0</td>\n",
       "      <td>26.6</td>\n",
       "      <td>0.351</td>\n",
       "      <td>31</td>\n",
       "      <td>0</td>\n",
       "    </tr>\n",
       "    <tr>\n",
       "      <th>2</th>\n",
       "      <td>8</td>\n",
       "      <td>183</td>\n",
       "      <td>64</td>\n",
       "      <td>0</td>\n",
       "      <td>0</td>\n",
       "      <td>23.3</td>\n",
       "      <td>0.672</td>\n",
       "      <td>32</td>\n",
       "      <td>1</td>\n",
       "    </tr>\n",
       "    <tr>\n",
       "      <th>3</th>\n",
       "      <td>1</td>\n",
       "      <td>89</td>\n",
       "      <td>66</td>\n",
       "      <td>23</td>\n",
       "      <td>94</td>\n",
       "      <td>28.1</td>\n",
       "      <td>0.167</td>\n",
       "      <td>21</td>\n",
       "      <td>0</td>\n",
       "    </tr>\n",
       "    <tr>\n",
       "      <th>4</th>\n",
       "      <td>0</td>\n",
       "      <td>137</td>\n",
       "      <td>40</td>\n",
       "      <td>35</td>\n",
       "      <td>168</td>\n",
       "      <td>43.1</td>\n",
       "      <td>2.288</td>\n",
       "      <td>33</td>\n",
       "      <td>1</td>\n",
       "    </tr>\n",
       "    <tr>\n",
       "      <th>...</th>\n",
       "      <td>...</td>\n",
       "      <td>...</td>\n",
       "      <td>...</td>\n",
       "      <td>...</td>\n",
       "      <td>...</td>\n",
       "      <td>...</td>\n",
       "      <td>...</td>\n",
       "      <td>...</td>\n",
       "      <td>...</td>\n",
       "    </tr>\n",
       "    <tr>\n",
       "      <th>95</th>\n",
       "      <td>6</td>\n",
       "      <td>144</td>\n",
       "      <td>72</td>\n",
       "      <td>27</td>\n",
       "      <td>228</td>\n",
       "      <td>33.9</td>\n",
       "      <td>0.255</td>\n",
       "      <td>40</td>\n",
       "      <td>0</td>\n",
       "    </tr>\n",
       "    <tr>\n",
       "      <th>96</th>\n",
       "      <td>2</td>\n",
       "      <td>92</td>\n",
       "      <td>62</td>\n",
       "      <td>28</td>\n",
       "      <td>0</td>\n",
       "      <td>31.6</td>\n",
       "      <td>0.130</td>\n",
       "      <td>24</td>\n",
       "      <td>0</td>\n",
       "    </tr>\n",
       "    <tr>\n",
       "      <th>97</th>\n",
       "      <td>1</td>\n",
       "      <td>71</td>\n",
       "      <td>48</td>\n",
       "      <td>18</td>\n",
       "      <td>76</td>\n",
       "      <td>20.4</td>\n",
       "      <td>0.323</td>\n",
       "      <td>22</td>\n",
       "      <td>0</td>\n",
       "    </tr>\n",
       "    <tr>\n",
       "      <th>98</th>\n",
       "      <td>6</td>\n",
       "      <td>93</td>\n",
       "      <td>50</td>\n",
       "      <td>30</td>\n",
       "      <td>64</td>\n",
       "      <td>28.7</td>\n",
       "      <td>0.356</td>\n",
       "      <td>23</td>\n",
       "      <td>0</td>\n",
       "    </tr>\n",
       "    <tr>\n",
       "      <th>99</th>\n",
       "      <td>1</td>\n",
       "      <td>122</td>\n",
       "      <td>90</td>\n",
       "      <td>51</td>\n",
       "      <td>220</td>\n",
       "      <td>49.7</td>\n",
       "      <td>0.325</td>\n",
       "      <td>31</td>\n",
       "      <td>1</td>\n",
       "    </tr>\n",
       "  </tbody>\n",
       "</table>\n",
       "<p>100 rows × 9 columns</p>\n",
       "</div>"
      ],
      "text/plain": [
       "    Pregnancies  Glucose  BloodPressure  SkinThickness  Insulin   BMI  \\\n",
       "0             6      148             72             35        0  33.6   \n",
       "1             1       85             66             29        0  26.6   \n",
       "2             8      183             64              0        0  23.3   \n",
       "3             1       89             66             23       94  28.1   \n",
       "4             0      137             40             35      168  43.1   \n",
       "..          ...      ...            ...            ...      ...   ...   \n",
       "95            6      144             72             27      228  33.9   \n",
       "96            2       92             62             28        0  31.6   \n",
       "97            1       71             48             18       76  20.4   \n",
       "98            6       93             50             30       64  28.7   \n",
       "99            1      122             90             51      220  49.7   \n",
       "\n",
       "    DiabetesPedigreeFunction  Age  Outcome  \n",
       "0                      0.627   50        1  \n",
       "1                      0.351   31        0  \n",
       "2                      0.672   32        1  \n",
       "3                      0.167   21        0  \n",
       "4                      2.288   33        1  \n",
       "..                       ...  ...      ...  \n",
       "95                     0.255   40        0  \n",
       "96                     0.130   24        0  \n",
       "97                     0.323   22        0  \n",
       "98                     0.356   23        0  \n",
       "99                     0.325   31        1  \n",
       "\n",
       "[100 rows x 9 columns]"
      ]
     },
     "execution_count": 3,
     "metadata": {},
     "output_type": "execute_result"
    }
   ],
   "source": [
    "data.head(100)"
   ]
  },
  {
   "cell_type": "markdown",
   "id": "3520bb64",
   "metadata": {},
   "source": [
    "## 1.2 Feature Selection"
   ]
  },
  {
   "cell_type": "markdown",
   "id": "144e5a6b",
   "metadata": {},
   "source": [
    "#### Divide dataset into Dependent or target variable and independent or feature variables."
   ]
  },
  {
   "cell_type": "code",
   "execution_count": 4,
   "id": "72843bba",
   "metadata": {},
   "outputs": [],
   "source": [
    "df = data.copy() # copy the original data into new variable"
   ]
  },
  {
   "cell_type": "code",
   "execution_count": 5,
   "id": "b0de8b98",
   "metadata": {},
   "outputs": [
    {
     "data": {
      "text/html": [
       "<div>\n",
       "<style scoped>\n",
       "    .dataframe tbody tr th:only-of-type {\n",
       "        vertical-align: middle;\n",
       "    }\n",
       "\n",
       "    .dataframe tbody tr th {\n",
       "        vertical-align: top;\n",
       "    }\n",
       "\n",
       "    .dataframe thead th {\n",
       "        text-align: right;\n",
       "    }\n",
       "</style>\n",
       "<table border=\"1\" class=\"dataframe\">\n",
       "  <thead>\n",
       "    <tr style=\"text-align: right;\">\n",
       "      <th></th>\n",
       "      <th>Pregnancies</th>\n",
       "      <th>Glucose</th>\n",
       "      <th>BloodPressure</th>\n",
       "      <th>SkinThickness</th>\n",
       "      <th>Insulin</th>\n",
       "      <th>BMI</th>\n",
       "      <th>DiabetesPedigreeFunction</th>\n",
       "      <th>Age</th>\n",
       "      <th>Outcome</th>\n",
       "    </tr>\n",
       "  </thead>\n",
       "  <tbody>\n",
       "    <tr>\n",
       "      <th>0</th>\n",
       "      <td>6</td>\n",
       "      <td>148</td>\n",
       "      <td>72</td>\n",
       "      <td>35</td>\n",
       "      <td>0</td>\n",
       "      <td>33.6</td>\n",
       "      <td>0.627</td>\n",
       "      <td>50</td>\n",
       "      <td>1</td>\n",
       "    </tr>\n",
       "    <tr>\n",
       "      <th>1</th>\n",
       "      <td>1</td>\n",
       "      <td>85</td>\n",
       "      <td>66</td>\n",
       "      <td>29</td>\n",
       "      <td>0</td>\n",
       "      <td>26.6</td>\n",
       "      <td>0.351</td>\n",
       "      <td>31</td>\n",
       "      <td>0</td>\n",
       "    </tr>\n",
       "    <tr>\n",
       "      <th>2</th>\n",
       "      <td>8</td>\n",
       "      <td>183</td>\n",
       "      <td>64</td>\n",
       "      <td>0</td>\n",
       "      <td>0</td>\n",
       "      <td>23.3</td>\n",
       "      <td>0.672</td>\n",
       "      <td>32</td>\n",
       "      <td>1</td>\n",
       "    </tr>\n",
       "    <tr>\n",
       "      <th>3</th>\n",
       "      <td>1</td>\n",
       "      <td>89</td>\n",
       "      <td>66</td>\n",
       "      <td>23</td>\n",
       "      <td>94</td>\n",
       "      <td>28.1</td>\n",
       "      <td>0.167</td>\n",
       "      <td>21</td>\n",
       "      <td>0</td>\n",
       "    </tr>\n",
       "    <tr>\n",
       "      <th>4</th>\n",
       "      <td>0</td>\n",
       "      <td>137</td>\n",
       "      <td>40</td>\n",
       "      <td>35</td>\n",
       "      <td>168</td>\n",
       "      <td>43.1</td>\n",
       "      <td>2.288</td>\n",
       "      <td>33</td>\n",
       "      <td>1</td>\n",
       "    </tr>\n",
       "  </tbody>\n",
       "</table>\n",
       "</div>"
      ],
      "text/plain": [
       "   Pregnancies  Glucose  BloodPressure  SkinThickness  Insulin   BMI  \\\n",
       "0            6      148             72             35        0  33.6   \n",
       "1            1       85             66             29        0  26.6   \n",
       "2            8      183             64              0        0  23.3   \n",
       "3            1       89             66             23       94  28.1   \n",
       "4            0      137             40             35      168  43.1   \n",
       "\n",
       "   DiabetesPedigreeFunction  Age  Outcome  \n",
       "0                     0.627   50        1  \n",
       "1                     0.351   31        0  \n",
       "2                     0.672   32        1  \n",
       "3                     0.167   21        0  \n",
       "4                     2.288   33        1  "
      ]
     },
     "execution_count": 5,
     "metadata": {},
     "output_type": "execute_result"
    }
   ],
   "source": [
    "df.head()"
   ]
  },
  {
   "cell_type": "markdown",
   "id": "fec3a2bc",
   "metadata": {},
   "source": [
    "### Independent Variable X"
   ]
  },
  {
   "cell_type": "code",
   "execution_count": 6,
   "id": "3fe0339f",
   "metadata": {},
   "outputs": [],
   "source": [
    "x = df.drop(['Outcome'], axis = 1) # x contain all independent variables, we drop Outcome column from whole dataset"
   ]
  },
  {
   "cell_type": "code",
   "execution_count": 7,
   "id": "8faaaa06",
   "metadata": {},
   "outputs": [
    {
     "data": {
      "text/html": [
       "<div>\n",
       "<style scoped>\n",
       "    .dataframe tbody tr th:only-of-type {\n",
       "        vertical-align: middle;\n",
       "    }\n",
       "\n",
       "    .dataframe tbody tr th {\n",
       "        vertical-align: top;\n",
       "    }\n",
       "\n",
       "    .dataframe thead th {\n",
       "        text-align: right;\n",
       "    }\n",
       "</style>\n",
       "<table border=\"1\" class=\"dataframe\">\n",
       "  <thead>\n",
       "    <tr style=\"text-align: right;\">\n",
       "      <th></th>\n",
       "      <th>Pregnancies</th>\n",
       "      <th>Glucose</th>\n",
       "      <th>BloodPressure</th>\n",
       "      <th>SkinThickness</th>\n",
       "      <th>Insulin</th>\n",
       "      <th>BMI</th>\n",
       "      <th>DiabetesPedigreeFunction</th>\n",
       "      <th>Age</th>\n",
       "    </tr>\n",
       "  </thead>\n",
       "  <tbody>\n",
       "    <tr>\n",
       "      <th>0</th>\n",
       "      <td>6</td>\n",
       "      <td>148</td>\n",
       "      <td>72</td>\n",
       "      <td>35</td>\n",
       "      <td>0</td>\n",
       "      <td>33.6</td>\n",
       "      <td>0.627</td>\n",
       "      <td>50</td>\n",
       "    </tr>\n",
       "    <tr>\n",
       "      <th>1</th>\n",
       "      <td>1</td>\n",
       "      <td>85</td>\n",
       "      <td>66</td>\n",
       "      <td>29</td>\n",
       "      <td>0</td>\n",
       "      <td>26.6</td>\n",
       "      <td>0.351</td>\n",
       "      <td>31</td>\n",
       "    </tr>\n",
       "    <tr>\n",
       "      <th>2</th>\n",
       "      <td>8</td>\n",
       "      <td>183</td>\n",
       "      <td>64</td>\n",
       "      <td>0</td>\n",
       "      <td>0</td>\n",
       "      <td>23.3</td>\n",
       "      <td>0.672</td>\n",
       "      <td>32</td>\n",
       "    </tr>\n",
       "    <tr>\n",
       "      <th>3</th>\n",
       "      <td>1</td>\n",
       "      <td>89</td>\n",
       "      <td>66</td>\n",
       "      <td>23</td>\n",
       "      <td>94</td>\n",
       "      <td>28.1</td>\n",
       "      <td>0.167</td>\n",
       "      <td>21</td>\n",
       "    </tr>\n",
       "    <tr>\n",
       "      <th>4</th>\n",
       "      <td>0</td>\n",
       "      <td>137</td>\n",
       "      <td>40</td>\n",
       "      <td>35</td>\n",
       "      <td>168</td>\n",
       "      <td>43.1</td>\n",
       "      <td>2.288</td>\n",
       "      <td>33</td>\n",
       "    </tr>\n",
       "  </tbody>\n",
       "</table>\n",
       "</div>"
      ],
      "text/plain": [
       "   Pregnancies  Glucose  BloodPressure  SkinThickness  Insulin   BMI  \\\n",
       "0            6      148             72             35        0  33.6   \n",
       "1            1       85             66             29        0  26.6   \n",
       "2            8      183             64              0        0  23.3   \n",
       "3            1       89             66             23       94  28.1   \n",
       "4            0      137             40             35      168  43.1   \n",
       "\n",
       "   DiabetesPedigreeFunction  Age  \n",
       "0                     0.627   50  \n",
       "1                     0.351   31  \n",
       "2                     0.672   32  \n",
       "3                     0.167   21  \n",
       "4                     2.288   33  "
      ]
     },
     "execution_count": 7,
     "metadata": {},
     "output_type": "execute_result"
    }
   ],
   "source": [
    "x.head()"
   ]
  },
  {
   "cell_type": "code",
   "execution_count": 8,
   "id": "ff5d41a9",
   "metadata": {},
   "outputs": [
    {
     "data": {
      "text/html": [
       "<div>\n",
       "<style scoped>\n",
       "    .dataframe tbody tr th:only-of-type {\n",
       "        vertical-align: middle;\n",
       "    }\n",
       "\n",
       "    .dataframe tbody tr th {\n",
       "        vertical-align: top;\n",
       "    }\n",
       "\n",
       "    .dataframe thead th {\n",
       "        text-align: right;\n",
       "    }\n",
       "</style>\n",
       "<table border=\"1\" class=\"dataframe\">\n",
       "  <thead>\n",
       "    <tr style=\"text-align: right;\">\n",
       "      <th></th>\n",
       "      <th>Pregnancies</th>\n",
       "      <th>Glucose</th>\n",
       "      <th>BloodPressure</th>\n",
       "      <th>SkinThickness</th>\n",
       "      <th>Insulin</th>\n",
       "      <th>BMI</th>\n",
       "      <th>DiabetesPedigreeFunction</th>\n",
       "      <th>Age</th>\n",
       "      <th>Outcome</th>\n",
       "    </tr>\n",
       "  </thead>\n",
       "  <tbody>\n",
       "    <tr>\n",
       "      <th>0</th>\n",
       "      <td>6</td>\n",
       "      <td>148</td>\n",
       "      <td>72</td>\n",
       "      <td>35</td>\n",
       "      <td>0</td>\n",
       "      <td>33.6</td>\n",
       "      <td>0.627</td>\n",
       "      <td>50</td>\n",
       "      <td>1</td>\n",
       "    </tr>\n",
       "    <tr>\n",
       "      <th>1</th>\n",
       "      <td>1</td>\n",
       "      <td>85</td>\n",
       "      <td>66</td>\n",
       "      <td>29</td>\n",
       "      <td>0</td>\n",
       "      <td>26.6</td>\n",
       "      <td>0.351</td>\n",
       "      <td>31</td>\n",
       "      <td>0</td>\n",
       "    </tr>\n",
       "    <tr>\n",
       "      <th>2</th>\n",
       "      <td>8</td>\n",
       "      <td>183</td>\n",
       "      <td>64</td>\n",
       "      <td>0</td>\n",
       "      <td>0</td>\n",
       "      <td>23.3</td>\n",
       "      <td>0.672</td>\n",
       "      <td>32</td>\n",
       "      <td>1</td>\n",
       "    </tr>\n",
       "    <tr>\n",
       "      <th>3</th>\n",
       "      <td>1</td>\n",
       "      <td>89</td>\n",
       "      <td>66</td>\n",
       "      <td>23</td>\n",
       "      <td>94</td>\n",
       "      <td>28.1</td>\n",
       "      <td>0.167</td>\n",
       "      <td>21</td>\n",
       "      <td>0</td>\n",
       "    </tr>\n",
       "    <tr>\n",
       "      <th>4</th>\n",
       "      <td>0</td>\n",
       "      <td>137</td>\n",
       "      <td>40</td>\n",
       "      <td>35</td>\n",
       "      <td>168</td>\n",
       "      <td>43.1</td>\n",
       "      <td>2.288</td>\n",
       "      <td>33</td>\n",
       "      <td>1</td>\n",
       "    </tr>\n",
       "  </tbody>\n",
       "</table>\n",
       "</div>"
      ],
      "text/plain": [
       "   Pregnancies  Glucose  BloodPressure  SkinThickness  Insulin   BMI  \\\n",
       "0            6      148             72             35        0  33.6   \n",
       "1            1       85             66             29        0  26.6   \n",
       "2            8      183             64              0        0  23.3   \n",
       "3            1       89             66             23       94  28.1   \n",
       "4            0      137             40             35      168  43.1   \n",
       "\n",
       "   DiabetesPedigreeFunction  Age  Outcome  \n",
       "0                     0.627   50        1  \n",
       "1                     0.351   31        0  \n",
       "2                     0.672   32        1  \n",
       "3                     0.167   21        0  \n",
       "4                     2.288   33        1  "
      ]
     },
     "execution_count": 8,
     "metadata": {},
     "output_type": "execute_result"
    }
   ],
   "source": [
    "df.head()"
   ]
  },
  {
   "cell_type": "markdown",
   "id": "edfbe0d8",
   "metadata": {},
   "source": [
    "### Dependent Variable Y"
   ]
  },
  {
   "cell_type": "code",
   "execution_count": 9,
   "id": "7f68cfe0",
   "metadata": {},
   "outputs": [],
   "source": [
    "y = df['Outcome']"
   ]
  },
  {
   "cell_type": "code",
   "execution_count": 10,
   "id": "67f61d9a",
   "metadata": {},
   "outputs": [
    {
     "data": {
      "text/plain": [
       "0    1\n",
       "1    0\n",
       "2    1\n",
       "3    0\n",
       "4    1\n",
       "Name: Outcome, dtype: int64"
      ]
     },
     "execution_count": 10,
     "metadata": {},
     "output_type": "execute_result"
    }
   ],
   "source": [
    "y.head()"
   ]
  },
  {
   "cell_type": "markdown",
   "id": "849310ff",
   "metadata": {},
   "source": [
    "## 1.3 Splitting Dataset into Training and Testing Data"
   ]
  },
  {
   "cell_type": "markdown",
   "id": "fe11e270",
   "metadata": {},
   "source": [
    "Building the model on the basis of trained dataset and predict the output on test dataset"
   ]
  },
  {
   "cell_type": "code",
   "execution_count": 11,
   "id": "8aff9cbc",
   "metadata": {},
   "outputs": [],
   "source": [
    "x_train, x_test, y_train, y_test = train_test_split(x, y, test_size=0.3)"
   ]
  },
  {
   "cell_type": "markdown",
   "id": "0dcaa399",
   "metadata": {},
   "source": [
    "## 1.4 Building Linear Regression Model"
   ]
  },
  {
   "cell_type": "markdown",
   "id": "dce593d8",
   "metadata": {},
   "source": [
    "Let's create a Linear Regression model from Scikit-learn."
   ]
  },
  {
   "cell_type": "code",
   "execution_count": 12,
   "id": "e88579ef",
   "metadata": {},
   "outputs": [],
   "source": [
    "model = LinearRegression()"
   ]
  },
  {
   "cell_type": "code",
   "execution_count": 13,
   "id": "1a4f9d63",
   "metadata": {},
   "outputs": [
    {
     "data": {
      "text/plain": [
       "LinearRegression()"
      ]
     },
     "execution_count": 13,
     "metadata": {},
     "output_type": "execute_result"
    }
   ],
   "source": [
    "model.fit(x_train, y_train)   # in order to find best fit in Linear Regression Model always use training dataset"
   ]
  },
  {
   "cell_type": "markdown",
   "id": "d961616e",
   "metadata": {},
   "source": [
    "### Now Predict the output "
   ]
  },
  {
   "cell_type": "code",
   "execution_count": 14,
   "id": "9fdcde16",
   "metadata": {},
   "outputs": [],
   "source": [
    "y_pred = model.predict(x_test)   # predict output on the basis of input test data"
   ]
  },
  {
   "cell_type": "code",
   "execution_count": 15,
   "id": "e43809f3",
   "metadata": {},
   "outputs": [
    {
     "data": {
      "text/plain": [
       "array([ 8.12824774e-01,  3.97778665e-01, -2.01401968e-02,  3.85729347e-01,\n",
       "        2.90685826e-01,  2.71111698e-01,  4.64463090e-01,  1.06386169e-01,\n",
       "        1.30657586e+00,  3.51642287e-01,  7.38289786e-01,  2.61660881e-01,\n",
       "        3.11760071e-01,  6.78981600e-02,  4.71325346e-01,  1.85346346e-01,\n",
       "       -2.25528106e-02,  2.35193642e-01,  2.89130946e-01,  3.63057452e-01,\n",
       "        9.17386832e-02,  3.35027248e-01,  4.23491297e-01,  4.68683556e-01,\n",
       "        4.27611837e-01,  3.96227987e-01,  4.39594969e-01,  7.80835740e-01,\n",
       "        2.07596873e-01,  6.54151338e-01,  4.72935710e-01,  4.65199913e-01,\n",
       "        4.60619427e-01,  3.48079917e-01,  2.98108518e-01,  4.41879174e-02,\n",
       "        1.27476312e-01,  3.24298739e-01,  2.39475217e-01,  1.72170569e-01,\n",
       "        8.09905432e-02,  7.05313566e-01,  5.31641269e-01,  1.26240026e-01,\n",
       "        1.14089733e-01,  3.47338188e-01,  5.98825362e-01,  6.81904982e-01,\n",
       "        4.47866940e-01,  2.94721269e-01,  1.87118117e-01,  3.29824352e-01,\n",
       "        5.06670488e-01, -1.03733305e-01,  3.20923304e-01,  5.66204810e-01,\n",
       "        4.48227396e-01,  1.27935289e-01,  3.27732434e-01,  1.54838072e-01,\n",
       "        2.56006348e-01, -2.12424675e-01,  3.82908334e-01,  2.46266475e-01,\n",
       "        1.05265655e-01, -1.00895794e-01,  3.52478747e-01,  1.52282172e-01,\n",
       "        3.70750347e-01,  5.76088640e-01,  5.06336638e-02,  2.15678402e-01,\n",
       "        4.07423834e-01,  8.29359837e-02,  2.94692161e-01,  2.03878993e-01,\n",
       "        7.04204409e-01,  5.81559740e-01,  7.13183004e-01,  3.94760478e-01,\n",
       "        2.62872722e-01,  3.07847910e-01,  4.22634287e-02,  3.23161390e-01,\n",
       "        7.16428305e-01,  4.20174294e-01,  5.44117905e-01,  1.01747507e-01,\n",
       "        5.25017222e-01,  3.27918246e-01,  1.80898552e-01,  2.73921250e-01,\n",
       "        1.88772008e-01,  8.96576855e-01,  9.05012069e-02,  1.18573692e-01,\n",
       "        1.59718250e-01, -6.92938974e-02,  1.54272273e-01,  2.51393974e-01,\n",
       "        1.23741834e-01,  1.06291931e-01,  2.99467155e-01,  3.53389567e-01,\n",
       "        1.17138446e-01, -3.02175264e-02,  3.15441115e-01, -5.07192599e-01,\n",
       "        4.61995838e-01,  3.48227750e-01,  4.53589538e-01,  4.01589993e-01,\n",
       "        3.69827757e-01,  2.50171353e-01,  2.39169092e-01,  9.26533963e-03,\n",
       "        1.38679855e-01,  1.53688925e-01,  2.45895611e-01,  2.81067878e-01,\n",
       "        5.00182322e-01,  3.08647333e-01,  6.08335424e-01,  2.58329239e-01,\n",
       "        2.50194833e-01, -1.75637590e-01,  3.56339708e-01,  4.31376546e-01,\n",
       "        3.62726989e-01,  1.08891257e-02,  2.30064564e-01,  2.01599834e-01,\n",
       "        6.29655506e-01,  2.40241921e-01,  6.70968521e-01,  4.74599029e-01,\n",
       "       -2.73381737e-01,  8.14173753e-01,  2.11825957e-01,  1.02607071e+00,\n",
       "        3.27006249e-01,  1.92303788e-01,  6.08755796e-01,  7.44329098e-02,\n",
       "        5.97820496e-01,  3.70448285e-04,  1.38995023e-01,  3.28870709e-01,\n",
       "        4.34893513e-01,  7.38766983e-01,  5.31396232e-01,  2.76131412e-01,\n",
       "        3.66643500e-01,  9.28965626e-02,  4.50067582e-01,  2.55626713e-01,\n",
       "        4.07567036e-01,  5.63430435e-01,  6.35648875e-01,  4.07910257e-01,\n",
       "        4.70137470e-01, -5.69071020e-02,  7.72914762e-01,  3.06402410e-01,\n",
       "        2.41719317e-01,  6.60571200e-01,  2.64648668e-01,  5.52581722e-01,\n",
       "        1.91408838e-01,  7.50481901e-01,  4.68510010e-01,  7.88100501e-02,\n",
       "        3.91686188e-01,  2.72101207e-01,  3.54720946e-01, -7.41392268e-03,\n",
       "        6.33867125e-01,  4.41940618e-01,  7.99459145e-01,  2.11228176e-01,\n",
       "        3.42233533e-01, -3.88144297e-02,  2.91444781e-01,  2.93669819e-01,\n",
       "        3.23424745e-01,  1.40812503e-01,  1.56922045e-01, -7.23922992e-02,\n",
       "        2.23151609e-01,  2.44548898e-01,  1.77084738e-01, -3.02290903e-01,\n",
       "        2.22000964e-01,  3.75567668e-02,  9.50382289e-01,  3.49114565e-01,\n",
       "        1.74613752e-01,  2.78958251e-01,  1.02744531e-01,  1.62133383e-01,\n",
       "        3.57786686e-01,  2.79449172e-01,  1.88392367e-01,  6.42789513e-01,\n",
       "        3.14336872e-01,  2.18052230e-01,  3.92753942e-02,  4.44912610e-01,\n",
       "        5.66533346e-01,  1.65888611e-01,  2.00036239e-01,  4.53184101e-01,\n",
       "        7.64742448e-01,  2.79288114e-01,  1.77055230e-01,  1.00343340e-01,\n",
       "        1.60111057e-01,  2.99016140e-02,  1.51865114e-01,  3.64539706e-01,\n",
       "        1.56434605e-01,  2.30286575e-01,  5.84267852e-01,  1.18599220e-01,\n",
       "        2.34932287e-01,  2.77087347e-01,  2.65269638e-01,  1.75944241e-01,\n",
       "        8.54351989e-02,  4.53136342e-01, -2.54350005e-02])"
      ]
     },
     "execution_count": 15,
     "metadata": {},
     "output_type": "execute_result"
    }
   ],
   "source": [
    "y_pred"
   ]
  },
  {
   "cell_type": "markdown",
   "id": "1001d3a3",
   "metadata": {},
   "source": [
    "## 1.5 Accuracy Check"
   ]
  },
  {
   "cell_type": "code",
   "execution_count": 16,
   "id": "6c21f8cf",
   "metadata": {},
   "outputs": [],
   "source": [
    "from sklearn.metrics import accuracy_score, r2_score"
   ]
  },
  {
   "cell_type": "code",
   "execution_count": 17,
   "id": "bf066e2a",
   "metadata": {},
   "outputs": [],
   "source": [
    "linearRegAccuracyScore = r2_score(y_test, y_pred)*100"
   ]
  },
  {
   "cell_type": "code",
   "execution_count": 18,
   "id": "721b00ad",
   "metadata": {},
   "outputs": [
    {
     "name": "stdout",
     "output_type": "stream",
     "text": [
      "Linear Regression Accuracy :  30.966525417090374\n"
     ]
    }
   ],
   "source": [
    "print(\"Linear Regression Accuracy : \", linearRegAccuracyScore)"
   ]
  },
  {
   "cell_type": "markdown",
   "id": "5a8e8fb8",
   "metadata": {},
   "source": [
    "## 1.6 Plot Predicted and actual output"
   ]
  },
  {
   "cell_type": "code",
   "execution_count": 19,
   "id": "bf4bd930",
   "metadata": {},
   "outputs": [],
   "source": [
    "import numpy as np"
   ]
  },
  {
   "cell_type": "code",
   "execution_count": 20,
   "id": "f8c3f0e0",
   "metadata": {},
   "outputs": [],
   "source": [
    "l = np.arange(231)"
   ]
  },
  {
   "cell_type": "code",
   "execution_count": 21,
   "id": "7f671194",
   "metadata": {},
   "outputs": [
    {
     "data": {
      "image/png": "[encoded data removed]",
      "text/plain": [
       "<Figure size 432x288 with 1 Axes>"
      ]
     },
     "metadata": {
      "needs_background": "light"
     },
     "output_type": "display_data"
    }
   ],
   "source": [
    "plt.scatter(l,y_test)\n",
    "plt.scatter(l,y_pred)\n",
    "plt.grid()\n"
   ]
  },
  {
   "cell_type": "markdown",
   "id": "08a9c1d0",
   "metadata": {},
   "source": [
    "# End of Linear Regression Model"
   ]
  },
  {
   "cell_type": "code",
   "execution_count": null,
   "id": "1d3ba02d",
   "metadata": {},
   "outputs": [],
   "source": []
  },
  {
   "cell_type": "markdown",
   "id": "89f940f3",
   "metadata": {},
   "source": [
    "# Model 02"
   ]
  },
  {
   "cell_type": "markdown",
   "id": "4626b096",
   "metadata": {},
   "source": [
    "# 2. Logistic Regression"
   ]
  },
  {
   "cell_type": "markdown",
   "id": "b940cc0b",
   "metadata": {},
   "source": [
    "## 2.1 Import Libraries & Read Data"
   ]
  },
  {
   "cell_type": "code",
   "execution_count": 22,
   "id": "494eb597",
   "metadata": {},
   "outputs": [],
   "source": [
    "import pandas as pd\n",
    "import numpy as np\n",
    "import matplotlib.pyplot as plt\n",
    "import seaborn as sns\n",
    "import math"
   ]
  },
  {
   "cell_type": "code",
   "execution_count": 23,
   "id": "762e3097",
   "metadata": {},
   "outputs": [],
   "source": [
    "data = pd.read_csv(\"diabetes.csv\")"
   ]
  },
  {
   "cell_type": "markdown",
   "id": "3ec46414",
   "metadata": {},
   "source": [
    "## 2.2 Feature Selection"
   ]
  },
  {
   "cell_type": "code",
   "execution_count": 24,
   "id": "bdc20efc",
   "metadata": {},
   "outputs": [],
   "source": [
    "x = data.drop(['Outcome'], axis=1)\n",
    "y = data['Outcome']"
   ]
  },
  {
   "cell_type": "markdown",
   "id": "4791906b",
   "metadata": {},
   "source": [
    "## 2.3 Train and Test data"
   ]
  },
  {
   "cell_type": "code",
   "execution_count": 25,
   "id": "7862d84f",
   "metadata": {},
   "outputs": [],
   "source": [
    "from sklearn.model_selection import train_test_split\n",
    "xTrain, xTest, yTrain, yTest = train_test_split(x,y, test_size=0.3, random_state=1)"
   ]
  },
  {
   "cell_type": "markdown",
   "id": "2ea499a5",
   "metadata": {},
   "source": [
    "## 2.4 Building Logistic Regression Model"
   ]
  },
  {
   "cell_type": "code",
   "execution_count": 26,
   "id": "51e6dd28",
   "metadata": {},
   "outputs": [],
   "source": [
    "from sklearn.linear_model import LogisticRegression\n",
    "model = LogisticRegression()\n",
    "model.fit(xTrain, yTrain)\n",
    "yPred = model.predict(xTest)"
   ]
  },
  {
   "cell_type": "markdown",
   "id": "daba87cc",
   "metadata": {},
   "source": [
    "## 2.5 Accuracy Check"
   ]
  },
  {
   "cell_type": "code",
   "execution_count": 27,
   "id": "597744f2",
   "metadata": {},
   "outputs": [
    {
     "name": "stdout",
     "output_type": "stream",
     "text": [
      "Logistic Regression Accuracy:  78.35497835497836\n"
     ]
    }
   ],
   "source": [
    "from sklearn.metrics import accuracy_score, r2_score\n",
    "logisticRegAccuracyScore = accuracy_score(yTest, yPred)*100\n",
    "print(\"Logistic Regression Accuracy: \", logisticRegAccuracyScore)"
   ]
  },
  {
   "cell_type": "markdown",
   "id": "578424ac",
   "metadata": {},
   "source": [
    "## 2.6 Plot Predicted and Actual Outcome"
   ]
  },
  {
   "cell_type": "code",
   "execution_count": 29,
   "id": "35c50844",
   "metadata": {},
   "outputs": [],
   "source": [
    "l = np.arange(231)"
   ]
  },
  {
   "cell_type": "code",
   "execution_count": 34,
   "id": "fa1354cc",
   "metadata": {},
   "outputs": [
    {
     "data": {
      "text/plain": [
       "Text(0, 0.5, 'y-axis')"
      ]
     },
     "execution_count": 34,
     "metadata": {},
     "output_type": "execute_result"
    },
    {
     "data": {
      "image/png": "[encoded data removed]",
      "text/plain": [
       "<Figure size 432x288 with 1 Axes>"
      ]
     },
     "metadata": {
      "needs_background": "light"
     },
     "output_type": "display_data"
    }
   ],
   "source": [
    "plt.scatter(l,yTest)\n",
    "plt.scatter(l,yPred)\n",
    "plt.grid()\n",
    "plt.title(\"Logistic Regression\")\n",
    "plt.xlabel(\"x-axis\")\n",
    "plt.ylabel(\"y-axis\")"
   ]
  },
  {
   "cell_type": "code",
   "execution_count": 35,
   "id": "6145a563",
   "metadata": {},
   "outputs": [
    {
     "data": {
      "text/plain": [
       "Text(0, 0.5, 'y-axis')"
      ]
     },
     "execution_count": 35,
     "metadata": {},
     "output_type": "execute_result"
    },
    {
     "data": {
      "image/png": "[encoded data removed]",
      "text/plain": [
       "<Figure size 432x288 with 2 Axes>"
      ]
     },
     "metadata": {
      "needs_background": "light"
     },
     "output_type": "display_data"
    }
   ],
   "source": [
    "plt.subplot(121)\n",
    "plt.scatter(l,yTest)\n",
    "plt.scatter(l,yPred)\n",
    "plt.grid()\n",
    "plt.title(\"Logistic Regression\")\n",
    "plt.xlabel(\"x-axis\")\n",
    "plt.ylabel(\"y-axis\")\n",
    "plt.subplot(122)\n",
    "plt.scatter(l,y_test)\n",
    "plt.scatter(l,y_pred)\n",
    "plt.grid()\n",
    "plt.title(\"Linear Regression\")\n",
    "plt.xlabel(\"x-axis\")\n",
    "plt.ylabel(\"y-axis\")\n"
   ]
  },
  {
   "cell_type": "markdown",
   "id": "1f75d798",
   "metadata": {},
   "source": [
    "# End of Logistic Regression Model"
   ]
  },
  {
   "cell_type": "code",
   "execution_count": null,
   "id": "9571a734",
   "metadata": {},
   "outputs": [],
   "source": []
  },
  {
   "cell_type": "markdown",
   "id": "5d60426d",
   "metadata": {},
   "source": [
    "# Model 03"
   ]
  },
  {
   "cell_type": "markdown",
   "id": "3ed7ecc9",
   "metadata": {},
   "source": [
    "# 3. Decision Tree Model"
   ]
  },
  {
   "cell_type": "markdown",
   "id": "35f9fc49",
   "metadata": {},
   "source": [
    "## 3.1 Import Libraries & Read Data"
   ]
  },
  {
   "cell_type": "code",
   "execution_count": 36,
   "id": "be162800",
   "metadata": {},
   "outputs": [],
   "source": [
    "import pandas as pd\n",
    "import numpy as np\n",
    "import matplotlib.pyplot as plt\n",
    "import seaborn as sns\n",
    "import math"
   ]
  },
  {
   "cell_type": "code",
   "execution_count": 37,
   "id": "745a1bd7",
   "metadata": {},
   "outputs": [],
   "source": [
    "data = pd.read_csv(\"diabetes.csv\")"
   ]
  },
  {
   "cell_type": "markdown",
   "id": "a50ed5b8",
   "metadata": {},
   "source": [
    "## 3.2 Feature Selection"
   ]
  },
  {
   "cell_type": "code",
   "execution_count": 38,
   "id": "38890f5e",
   "metadata": {},
   "outputs": [],
   "source": [
    "x = data.drop(['Outcome'], axis=1)\n",
    "y = data['Outcome']"
   ]
  },
  {
   "cell_type": "markdown",
   "id": "044d27e5",
   "metadata": {},
   "source": [
    "## 3.3 Train and Test data"
   ]
  },
  {
   "cell_type": "code",
   "execution_count": 53,
   "id": "0e6195aa",
   "metadata": {},
   "outputs": [],
   "source": [
    "from sklearn.model_selection import train_test_split\n",
    "xTrain, xTest, yTrain, yTestDT = train_test_split(x,y, test_size=0.3, random_state=1)"
   ]
  },
  {
   "cell_type": "markdown",
   "id": "1b9d5c32",
   "metadata": {},
   "source": [
    "## 3.4 Building Decision Tree Model"
   ]
  },
  {
   "cell_type": "code",
   "execution_count": 54,
   "id": "1aa54e4b",
   "metadata": {},
   "outputs": [],
   "source": [
    "from sklearn.tree import DecisionTreeClassifier\n",
    "model = DecisionTreeClassifier()\n",
    "model.fit(xTrain, yTrain)\n",
    "yPredDT = model.predict(xTest)"
   ]
  },
  {
   "cell_type": "markdown",
   "id": "c0cf1787",
   "metadata": {},
   "source": [
    "## 3.5 Accuracy Check"
   ]
  },
  {
   "cell_type": "code",
   "execution_count": 55,
   "id": "88d517c9",
   "metadata": {},
   "outputs": [
    {
     "name": "stdout",
     "output_type": "stream",
     "text": [
      "Decision Tree Accuracy:  71.86147186147186\n"
     ]
    }
   ],
   "source": [
    "from sklearn.metrics import accuracy_score, r2_score\n",
    "DTAccuracyScore = accuracy_score(yTestDT, yPredDT)*100\n",
    "print(\"Decision Tree Accuracy: \", DTAccuracyScore)"
   ]
  },
  {
   "cell_type": "markdown",
   "id": "68658fc9",
   "metadata": {},
   "source": [
    "## 3.6 Plot Predicted and Actual Outcome"
   ]
  },
  {
   "cell_type": "code",
   "execution_count": 59,
   "id": "a23f1895",
   "metadata": {},
   "outputs": [
    {
     "data": {
      "text/plain": [
       "Text(0, 0.5, 'y-axis')"
      ]
     },
     "execution_count": 59,
     "metadata": {},
     "output_type": "execute_result"
    },
    {
     "data": {
      "image/png": "[encoded data removed]",
      "text/plain": [
       "<Figure size 432x288 with 1 Axes>"
      ]
     },
     "metadata": {
      "needs_background": "light"
     },
     "output_type": "display_data"
    }
   ],
   "source": [
    "plt.scatter(l,yTestDT)\n",
    "plt.scatter(l,yPredDT)\n",
    "plt.grid()\n",
    "plt.title(\"Decision Tree\")\n",
    "plt.xlabel(\"x-axis\")\n",
    "plt.ylabel(\"y-axis\")"
   ]
  },
  {
   "cell_type": "markdown",
   "id": "3e4a7365",
   "metadata": {},
   "source": [
    "# End of Decision Tree Model"
   ]
  },
  {
   "cell_type": "code",
   "execution_count": null,
   "id": "65e50449",
   "metadata": {},
   "outputs": [],
   "source": []
  },
  {
   "cell_type": "markdown",
   "id": "ff823118",
   "metadata": {},
   "source": [
    "# Model 04"
   ]
  },
  {
   "cell_type": "markdown",
   "id": "42117901",
   "metadata": {},
   "source": [
    "# 4. SVM (Support Vector Machine) Model"
   ]
  },
  {
   "cell_type": "markdown",
   "id": "124c9eb5",
   "metadata": {},
   "source": [
    "## 4.1 Import Libraries & Read Data"
   ]
  },
  {
   "cell_type": "code",
   "execution_count": 60,
   "id": "1f525a67",
   "metadata": {},
   "outputs": [],
   "source": [
    "import pandas as pd\n",
    "import numpy as np\n",
    "import matplotlib.pyplot as plt\n",
    "import seaborn as sns\n",
    "import math"
   ]
  },
  {
   "cell_type": "code",
   "execution_count": 61,
   "id": "75a77112",
   "metadata": {},
   "outputs": [
    {
     "data": {
      "text/html": [
       "<div>\n",
       "<style scoped>\n",
       "    .dataframe tbody tr th:only-of-type {\n",
       "        vertical-align: middle;\n",
       "    }\n",
       "\n",
       "    .dataframe tbody tr th {\n",
       "        vertical-align: top;\n",
       "    }\n",
       "\n",
       "    .dataframe thead th {\n",
       "        text-align: right;\n",
       "    }\n",
       "</style>\n",
       "<table border=\"1\" class=\"dataframe\">\n",
       "  <thead>\n",
       "    <tr style=\"text-align: right;\">\n",
       "      <th></th>\n",
       "      <th>Pregnancies</th>\n",
       "      <th>Glucose</th>\n",
       "      <th>BloodPressure</th>\n",
       "      <th>SkinThickness</th>\n",
       "      <th>Insulin</th>\n",
       "      <th>BMI</th>\n",
       "      <th>DiabetesPedigreeFunction</th>\n",
       "      <th>Age</th>\n",
       "      <th>Outcome</th>\n",
       "    </tr>\n",
       "  </thead>\n",
       "  <tbody>\n",
       "    <tr>\n",
       "      <th>0</th>\n",
       "      <td>6</td>\n",
       "      <td>148</td>\n",
       "      <td>72</td>\n",
       "      <td>35</td>\n",
       "      <td>0</td>\n",
       "      <td>33.6</td>\n",
       "      <td>0.627</td>\n",
       "      <td>50</td>\n",
       "      <td>1</td>\n",
       "    </tr>\n",
       "    <tr>\n",
       "      <th>1</th>\n",
       "      <td>1</td>\n",
       "      <td>85</td>\n",
       "      <td>66</td>\n",
       "      <td>29</td>\n",
       "      <td>0</td>\n",
       "      <td>26.6</td>\n",
       "      <td>0.351</td>\n",
       "      <td>31</td>\n",
       "      <td>0</td>\n",
       "    </tr>\n",
       "    <tr>\n",
       "      <th>2</th>\n",
       "      <td>8</td>\n",
       "      <td>183</td>\n",
       "      <td>64</td>\n",
       "      <td>0</td>\n",
       "      <td>0</td>\n",
       "      <td>23.3</td>\n",
       "      <td>0.672</td>\n",
       "      <td>32</td>\n",
       "      <td>1</td>\n",
       "    </tr>\n",
       "    <tr>\n",
       "      <th>3</th>\n",
       "      <td>1</td>\n",
       "      <td>89</td>\n",
       "      <td>66</td>\n",
       "      <td>23</td>\n",
       "      <td>94</td>\n",
       "      <td>28.1</td>\n",
       "      <td>0.167</td>\n",
       "      <td>21</td>\n",
       "      <td>0</td>\n",
       "    </tr>\n",
       "    <tr>\n",
       "      <th>4</th>\n",
       "      <td>0</td>\n",
       "      <td>137</td>\n",
       "      <td>40</td>\n",
       "      <td>35</td>\n",
       "      <td>168</td>\n",
       "      <td>43.1</td>\n",
       "      <td>2.288</td>\n",
       "      <td>33</td>\n",
       "      <td>1</td>\n",
       "    </tr>\n",
       "  </tbody>\n",
       "</table>\n",
       "</div>"
      ],
      "text/plain": [
       "   Pregnancies  Glucose  BloodPressure  SkinThickness  Insulin   BMI  \\\n",
       "0            6      148             72             35        0  33.6   \n",
       "1            1       85             66             29        0  26.6   \n",
       "2            8      183             64              0        0  23.3   \n",
       "3            1       89             66             23       94  28.1   \n",
       "4            0      137             40             35      168  43.1   \n",
       "\n",
       "   DiabetesPedigreeFunction  Age  Outcome  \n",
       "0                     0.627   50        1  \n",
       "1                     0.351   31        0  \n",
       "2                     0.672   32        1  \n",
       "3                     0.167   21        0  \n",
       "4                     2.288   33        1  "
      ]
     },
     "execution_count": 61,
     "metadata": {},
     "output_type": "execute_result"
    }
   ],
   "source": [
    "data.head()"
   ]
  },
  {
   "cell_type": "markdown",
   "id": "d5fa3cf8",
   "metadata": {},
   "source": [
    "## 4.2 Feature Selection"
   ]
  },
  {
   "cell_type": "code",
   "execution_count": 62,
   "id": "f2739b5a",
   "metadata": {},
   "outputs": [],
   "source": [
    "x = data.drop(['Outcome'], axis=1)\n",
    "y = data['Outcome']"
   ]
  },
  {
   "cell_type": "markdown",
   "id": "ccbf70f6",
   "metadata": {},
   "source": [
    "## 4.3 Train and Test data"
   ]
  },
  {
   "cell_type": "code",
   "execution_count": 70,
   "id": "03dc05a1",
   "metadata": {},
   "outputs": [],
   "source": [
    "from sklearn.model_selection import train_test_split\n",
    "xTrain, xTest, yTrain, yTestsvm = train_test_split(x,y, test_size=0.2, random_state=0)"
   ]
  },
  {
   "cell_type": "markdown",
   "id": "319dce1d",
   "metadata": {},
   "source": [
    "## 4.4 Building SVM Model"
   ]
  },
  {
   "cell_type": "code",
   "execution_count": 73,
   "id": "d43ddcdc",
   "metadata": {},
   "outputs": [
    {
     "data": {
      "text/plain": [
       "array([1, 0, 0, 1, 0, 0, 1, 1, 0, 0, 1, 1, 0, 0, 0, 0, 1, 0, 0, 0, 1, 0,\n",
       "       0, 0, 0, 0, 0, 1, 0, 0, 0, 0, 0, 0, 0, 1, 0, 0, 0, 1, 0, 0, 0, 1,\n",
       "       1, 0, 0, 0, 0, 0, 0, 0, 1, 0, 0, 0, 0, 0, 0, 0, 1, 0, 0, 1, 1, 1,\n",
       "       1, 0, 0, 0, 0, 0, 0, 1, 1, 0, 0, 1, 0, 0, 0, 0, 0, 0, 0, 0, 0, 0,\n",
       "       1, 0, 0, 0, 0, 0, 1, 0, 0, 1, 0, 0, 0, 0, 0, 0, 0, 0, 0, 0, 0, 1,\n",
       "       0, 0, 0, 0, 1, 1, 0, 1, 0, 0, 0, 0, 0, 0, 0, 0, 0, 0, 0, 1, 0, 0,\n",
       "       0, 1, 0, 0, 0, 0, 1, 0, 0, 1, 0, 0, 0, 0, 0, 0, 0, 0, 0, 0, 0, 0],\n",
       "      dtype=int64)"
      ]
     },
     "execution_count": 73,
     "metadata": {},
     "output_type": "execute_result"
    }
   ],
   "source": [
    "from sklearn import svm\n",
    "model = svm.SVC(kernel = 'rbf')\n",
    "model.fit(xTrain, yTrain)\n",
    "yPredsvm = model.predict(xTest)\n",
    "yPredsvm"
   ]
  },
  {
   "cell_type": "markdown",
   "id": "91aa3b7e",
   "metadata": {},
   "source": [
    "## 4.5 Accuracy Check"
   ]
  },
  {
   "cell_type": "code",
   "execution_count": 72,
   "id": "2118082a",
   "metadata": {},
   "outputs": [
    {
     "name": "stdout",
     "output_type": "stream",
     "text": [
      "Decision Tree Accuracy:  79.22077922077922\n"
     ]
    }
   ],
   "source": [
    "from sklearn.metrics import accuracy_score, r2_score\n",
    "svmAccuracyScore = accuracy_score(yTestsvm, yPredsvm)*100\n",
    "print(\"Decision Tree Accuracy: \", svmAccuracyScore)"
   ]
  },
  {
   "cell_type": "code",
   "execution_count": null,
   "id": "d6a8e4dd",
   "metadata": {},
   "outputs": [],
   "source": []
  }
 ],
 "metadata": {
  "kernelspec": {
   "display_name": "Python 3 (ipykernel)",
   "language": "python",
   "name": "python3"
  },
  "language_info": {
   "codemirror_mode": {
    "name": "ipython",
    "version": 3
   },
   "file_extension": ".py",
   "mimetype": "text/x-python",
   "name": "python",
   "nbconvert_exporter": "python",
   "pygments_lexer": "ipython3",
   "version": "3.9.7"
  }
 },
 "nbformat": 4,
 "nbformat_minor": 5
}
